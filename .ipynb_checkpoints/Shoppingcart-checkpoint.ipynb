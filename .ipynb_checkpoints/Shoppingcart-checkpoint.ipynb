{
 "cells": [
  {
   "cell_type": "code",
   "execution_count": 37,
   "id": "09e77974",
   "metadata": {},
   "outputs": [
    {
     "name": "stdout",
     "output_type": "stream",
     "text": [
      "Jack bacon\n",
      "<__main__.Cart object at 0x7f8b10079460>\n",
      "Bill eggs\n",
      "<__main__.Cart object at 0x7f8b100791c0>\n",
      "Alice ham\n",
      "<__main__.Cart object at 0x7f8b100794c0>\n",
      "My name is:\n",
      "Jack\n",
      "In my shopping cart is:\n",
      "bacon\n",
      "My name is:\n",
      "Bill\n",
      "In my shopping cart is:\n",
      "eggs\n",
      "My name is:\n",
      "Alice\n",
      "In my shopping cart is:\n",
      "ham\n"
     ]
    }
   ],
   "source": [
    "## Create a class called cart that \n",
    "#retains items and has methods to add, remove, and show\n",
    "\n",
    "class Cart:\n",
    "    \n",
    "    \n",
    "    def __init__(self, name, items):\n",
    "        self.name = name \n",
    "        self.items = items\n",
    "    def everyone(self):\n",
    "        return f'{self.name} {self.items}'\n",
    "    def change_item(self, new_item):\n",
    "        self.new = new\n",
    "        self.change_item = self.name +' . ' + self.new\n",
    "    \n",
    "    \n",
    "        \n",
    "person_one = Cart('Jack', 'bacon')\n",
    "person_two = Cart('Bill','eggs')\n",
    "person_three = Cart('Alice', 'ham')\n",
    "\n",
    "\n",
    "Cart = [person_one, person_two, person_three] \n",
    "for shopping in Cart:\n",
    "    print(shopping.everyone())\n",
    "    print(shopping)\n",
    "\n",
    "for shop in Cart:\n",
    "    print(\"My name is:\")\n",
    "    print(shop.name)\n",
    "    print(\"In my shopping cart is:\")\n",
    "    print(shop.items)"
   ]
  },
  {
   "cell_type": "code",
   "execution_count": null,
   "id": "7b78d5fe",
   "metadata": {},
   "outputs": [],
   "source": []
  },
  {
   "cell_type": "code",
   "execution_count": null,
   "id": "5fb06e56",
   "metadata": {},
   "outputs": [],
   "source": []
  }
 ],
 "metadata": {
  "kernelspec": {
   "display_name": "Python 3",
   "language": "python",
   "name": "python3"
  },
  "language_info": {
   "codemirror_mode": {
    "name": "ipython",
    "version": 3
   },
   "file_extension": ".py",
   "mimetype": "text/x-python",
   "name": "python",
   "nbconvert_exporter": "python",
   "pygments_lexer": "ipython3",
   "version": "3.8.8"
  }
 },
 "nbformat": 4,
 "nbformat_minor": 5
}
